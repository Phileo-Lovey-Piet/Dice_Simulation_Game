{
 "cells": [
  {
   "cell_type": "code",
   "execution_count": null,
   "metadata": {},
   "outputs": [],
   "source": [
    "import random  # importing random module\n",
    "import time    # importing time module\n",
    "\n",
    "roll_dice = \"yes\"  # variable to be used in while loop\n",
    "\n",
    "# introduction to game inside an f string literal\n",
    "\n",
    "print(f'''\n",
    "    Hi there, Welcome to my Dice Simulator. Two dice will be given to you. \n",
    "    All you have to do is type yes, press enter, and let the dice\n",
    "    fall wherever it may.\n",
    "    ''')\n",
    "\n",
    "play = input(\"Do you wanna play? \")   # variable that asks for user input\n",
    "\n",
    "\n",
    "\n",
    "while roll_dice == \"yes\" or roll_dice == \"ye\" or roll_dice == \"y\" or roll_dice == \"YES\" or roll_dice == \"YE\" or roll_dice == \"Y\":\n",
    "    print(\"\\nRolling dice...\")\n",
    "    time.sleep(1)   # from the time module. Pauses the loop for one second.\n",
    "\n",
    "    # two variables that represent each dice\n",
    "    dice1 = random.randint(1, 6)\n",
    "    dice2 = random.randint(1, 6)\n",
    "\n",
    "    # the output of each dice\n",
    "    print(\"And the dice show:\")\n",
    "    print(\"Dice 1 =\", dice1, \"\\nDice 2 =\", dice2)\n",
    "\n",
    "    # displays a message if the two dice has the same output\n",
    "    if dice1 == dice2:\n",
    "        print(\"You rolled a double, nice job.\")\n",
    "    else:\n",
    "        print(\"\")\n",
    "\n",
    "    # asks for user input, whether the user wants to role the dice again\n",
    "    roll_dice = input(\"Wanna roll again? (yes/no) \")\n",
    "\n",
    "# This displays when the user opts out of the game\n",
    "print(\"\\n\\nThank you for playing, come back soon.\")\n"
   ]
  },
  {
   "cell_type": "code",
   "execution_count": null,
   "metadata": {},
   "outputs": [],
   "source": []
  }
 ],
 "metadata": {
  "kernelspec": {
   "display_name": "Python 3",
   "language": "python",
   "name": "python3"
  },
  "language_info": {
   "codemirror_mode": {
    "name": "ipython",
    "version": 3
   },
   "file_extension": ".py",
   "mimetype": "text/x-python",
   "name": "python",
   "nbconvert_exporter": "python",
   "pygments_lexer": "ipython3",
   "version": "3.7.6"
  }
 },
 "nbformat": 4,
 "nbformat_minor": 4
}
